{
 "cells": [
  {
   "cell_type": "markdown",
   "metadata": {},
   "source": [
    "# U.S. Medical Insurance Costs\n",
    "\n",
    "In this project, we will be analyzing a CSV file with medical insurance data using Python. Our objective is to analyze the data to find summary statistics and what factors have the largest impacts on insurance cost."
   ]
  },
  {
   "cell_type": "code",
   "execution_count": 1,
   "metadata": {},
   "outputs": [
    {
     "name": "stdout",
     "output_type": "stream",
     "text": [
      "There are 1338 people in our data set.\n",
      "Our data set contains the following information about each person:\n",
      "dict_keys(['age', 'sex', 'bmi', 'children', 'smoker', 'region', 'charges'])\n"
     ]
    }
   ],
   "source": [
    "# import libraries\n",
    "import csv\n",
    "# read csv file into all_data, a list of dictionaries of people\n",
    "with open('insurance.csv') as insurance_csv:\n",
    "    data = csv.DictReader(insurance_csv)\n",
    "    all_data = []\n",
    "    for row in data:\n",
    "        all_data.append(row)\n",
    "        \n",
    "print('There are {} people in our data set.'.format(len(all_data)))\n",
    "print('Our data set contains the following information about each person:')\n",
    "print(all_data[0].keys())"
   ]
  },
  {
   "cell_type": "markdown",
   "metadata": {},
   "source": [
    "First we import the libraries we will be using to examine our data. Then we load the data into a list of dictionaries that represent a person. The keys of this dictionary are the columns from our CSV file. These are the columns and the possible values they may contain.\n",
    "\n",
    "- age - the age of the person in years, an integer\n",
    "- sex - the sex of the person, either 'male' or 'female'\n",
    "- bmi - the body mass index of the person, a float\n",
    "- children - the number of children the person has, an integer\n",
    "- smoker - the smoking status of the person, either 'yes' or 'no'\n",
    "- region - the region the where the person lives, either 'northeast', 'northwest', 'southeast', or 'southwest'\n",
    "- charges - the amount of insurance charges the person paid that year, a float\n",
    "\n",
    "Our data contains information on 1338 people. There are no missing values and the data is clean. All our data is stored as strings so we need to convert to the proper type to do any calculations.\n",
    "We will add one more column to our data called 'has_children' which will contain the value 'yes' if the person has children and 'no' if the person does not."
   ]
  },
  {
   "cell_type": "code",
   "execution_count": 2,
   "metadata": {},
   "outputs": [],
   "source": [
    "for person in all_data:\n",
    "    if person['children'] == '0':\n",
    "        person['has_children'] = 'no'\n",
    "    else:\n",
    "        person['has_children'] = 'yes'"
   ]
  },
  {
   "cell_type": "markdown",
   "metadata": {},
   "source": [
    "We need some helper functions to examine the data. These functions will analyze the data for summary statistics, and display those statistics for us."
   ]
  },
  {
   "cell_type": "code",
   "execution_count": 3,
   "metadata": {},
   "outputs": [],
   "source": [
    "\n",
    "# Function that finds the mean of a column in the data rounded to 2 decimal places\n",
    "def find_mean_of_column(data, column):\n",
    "    column_sum = 0\n",
    "    for row in data:\n",
    "        column_sum += float(row[column])\n",
    "    return round(column_sum / len(data), 2)\n",
    "\n",
    "# Function that finds the maximum value of a column in the data rounded to 2 decimal places\n",
    "def find_max_of_column(data, column):\n",
    "    column_max = float(data[0][column])\n",
    "    for datum in data:\n",
    "        if float(datum[column]) > column_max:\n",
    "            column_max = float(datum[column])\n",
    "    return round(column_max, 2)\n",
    "\n",
    "# Function that finds the minimum value of a column in the data rounded to 2 decimal places\n",
    "def find_min_of_column(data, column):\n",
    "    column_min = float(data[0][column])\n",
    "    for datum in data:\n",
    "        if float(datum[column]) < column_min:\n",
    "            column_min = float(datum[column])\n",
    "    return round(column_min, 2)\n",
    "\n",
    "# Function that finds the standard deviation of a column in the data rounded to 2 decimal places\n",
    "def find_std_of_column(data, column):\n",
    "    column_square_error_sum = 0\n",
    "    column_mean = find_mean_of_column(data, column)\n",
    "    for datum in data:\n",
    "        column_square_error_sum += (float(datum[column]) - column_mean) ** 2\n",
    "    return round((column_square_error_sum / (len(data) - 1))**.5, 2)\n",
    "\n",
    "# Function that finds the mode of the column\n",
    "def column_mode(data, column):\n",
    "    counter = {}\n",
    "    for datum in data:\n",
    "        if datum[column] in counter:\n",
    "            counter[datum[column]] += 1\n",
    "        else:\n",
    "            counter[datum[column]] = 1\n",
    "    max_datum = data[0][column]\n",
    "    max_count = counter[max_datum]\n",
    "    for item in counter:\n",
    "        if counter[item] > max_count:\n",
    "            max_datum = item\n",
    "            max_count = counter[item]\n",
    "    return max_datum\n",
    "\n",
    "# Function that returns a list of floats from column data\n",
    "def make_column_float_list(data, column):\n",
    "    column_list = []\n",
    "    for datum in data:\n",
    "        column_list.append(float(datum[column]))\n",
    "    return column_list\n",
    "\n",
    "# Function that finds the median of a column in the data rounded to 2 decimal places\n",
    "def find_median_of_column(data, column):\n",
    "    column_list = make_column_float_list(data, column)\n",
    "    column_list.sort()\n",
    "    length = len(column_list)\n",
    "    if length % 2 == 1:\n",
    "        mid_index = int((length - 1) / 2)\n",
    "        return round(column_list[mid_index], 2)\n",
    "    else:\n",
    "        mid_index = int(length / 2)\n",
    "        return round(((column_list[mid_index] + column_list[mid_index - 1]) / 2), 2)\n",
    "    \n",
    "# Function that finds the lower quartile of a column in data rounded to 2 decimal places   \n",
    "def find_lower_quartile_of_column(data, column):\n",
    "    column_list = make_column_float_list(data, column)\n",
    "    column_list.sort()\n",
    "    length = len(column_list)\n",
    "    if length % 2 == 0:\n",
    "        if int(length / 2) % 2 == 1:\n",
    "            lower_index = int((length / 2 - 1) / 2)\n",
    "            return round(column_list[lower_index], 2)\n",
    "        else:\n",
    "            lower_index = int(length / 4)\n",
    "            return round(((column_list[lower_index] + column_list[lower_index - 1]) / 2), 2)\n",
    "    else:\n",
    "        if int((length - 1) / 2) % 2 == 1:\n",
    "            lower_index = int((((length - 1) / 2) - 1) / 2)\n",
    "            return round(column_list[lower_index], 2)\n",
    "        else:\n",
    "            lower_index = int((length - 1) / 4)\n",
    "            return round(((column_list[lower_index] + column_list[lower_index - 1]) / 2), 2)\n",
    "\n",
    "# Function that finds the upper quartile of a column in data rounded to 2 decimal places          \n",
    "def find_upper_quartile_of_column(data, column):\n",
    "    column_list = make_column_float_list(data, column)\n",
    "    column_list.sort()\n",
    "    length = len(column_list)\n",
    "    if length % 2 == 0:\n",
    "        if int(length / 2) % 2 == 1:\n",
    "            lower_index = int((length / 2 - 1) / 2 + (length / 2))\n",
    "            return round(column_list[lower_index], 2)\n",
    "        else:\n",
    "            lower_index = int(length / 4 + length / 2)\n",
    "            return round(((column_list[lower_index] + column_list[lower_index - 1]) / 2), 2)\n",
    "    else:\n",
    "        if int((length - 1) / 2) % 2 == 1:\n",
    "            lower_index = int((((length - 1) / 2) - 1) / 2 + (length + 1) / 2)\n",
    "            return round(column_list[lower_index], 2)\n",
    "        else:\n",
    "            lower_index = int(3 * (length - 1) / 4)\n",
    "            return round(((column_list[lower_index] + column_list[lower_index + 1]) / 2), 2)\n",
    "    \n",
    "\n",
    "# Function that creates a dictionary that groups people by the specified attribute\n",
    "# as the key and the value of each key is a list of people (dictionaries) in that group\n",
    "# this will be used to examine the summary statistics of various categories\n",
    "def group_by_column(data, column):\n",
    "    new_dict = {}\n",
    "    for row in data:\n",
    "        if row[column] in new_dict:\n",
    "            new_dict[row[column]].append(row)\n",
    "        else:\n",
    "            new_dict[row[column]] = [row]\n",
    "    sorted_new_dict = dict(sorted(new_dict.items()))\n",
    "    return sorted_new_dict\n",
    "\n",
    "# Function that creates a dictionary that groups people by the specified attribute\n",
    "# as the key and the value of each key is the number of people in that group\n",
    "def make_frequency_table(data, column):\n",
    "    new_dict = group_by_column(data, column)\n",
    "    dict_counter = {}\n",
    "    for key in new_dict:\n",
    "        dict_counter[key] = len(new_dict[key])\n",
    "    sorted_dict_counter = dict(sorted(dict_counter.items()))\n",
    "    return sorted_dict_counter\n",
    "\n",
    "# Function that creates a dictionary that groups people by the specified attribute\n",
    "# as the key and the value of each key is the proportion of people in that group to the \n",
    "# total number of people in the data set\n",
    "def make_proportion_table(data, column):\n",
    "    new_dict = group_by_column(data, column)\n",
    "    dict_counter = {}\n",
    "    for key in new_dict:\n",
    "        dict_counter[key] = str(round(100 * float(len(new_dict[key]) / len(data)), 2)) + '%'\n",
    "    sorted_dict_counter = dict(sorted(dict_counter.items()))\n",
    "    return sorted_dict_counter   \n",
    "\n",
    "# Function that creates a dictionary that groups people by the specified attribute\n",
    "# as the key and the value of each key is the sum of the specified attribute in that group\n",
    "def dict_key_value_sums(data, column):\n",
    "    new_dict = group_by_column(data, column)\n",
    "    dict_sums = {}\n",
    "    for key in new_dict:\n",
    "        dict_sums[key] = 0\n",
    "        for index in new_dict[key]:\n",
    "            dict_sums[key] += round(float(new_dict[key][index]), 2)\n",
    "    return dict_sums\n",
    "\n",
    "# Function for displaying numerical summary statistics including min, lower quartile,\n",
    "# median, upper quartile, max, range, IQR, mean, and standard deviation\n",
    "def display_numerical(data, column):\n",
    "    column_mean = find_mean_of_column(data, column)\n",
    "    column_max = find_max_of_column(data, column)\n",
    "    column_min = find_min_of_column(data, column)\n",
    "    column_std = find_std_of_column(data, column)\n",
    "    column_median = find_median_of_column(data, column)\n",
    "    column_lower_quartile = find_lower_quartile_of_column(data, column)\n",
    "    column_upper_quartile = find_upper_quartile_of_column(data, column)\n",
    "    print('          {}:'.format(column))\n",
    "    print()\n",
    "    print('     Min = {}'.format(column_min))\n",
    "    print('     Lower Quartile = {}'.format(column_lower_quartile))\n",
    "    print('     Median = {}'.format(column_median))\n",
    "    print('     Upper Quartile = {}'.format(column_upper_quartile))\n",
    "    print('     Max = {}'.format(column_max))\n",
    "    print('     Range = {}'.format(round(column_max - column_min, 2)))\n",
    "    print('     Interquartile Range = {}'.format(round(column_upper_quartile - column_lower_quartile, 2)))\n",
    "    print('     Mean = {}'.format(column_mean))\n",
    "    print('     Standard Deviation = {}'.format(column_std))\n",
    "   \n",
    "    \n",
    "    print()\n",
    "    \n",
    "# Function for displaying categorical summary statistics including mode, a frequency table, and a\n",
    "# proportion table\n",
    "def display_categorical(data, column):\n",
    "    frequency_table = make_frequency_table(data, column)\n",
    "    proportion_table = make_proportion_table(data, column)\n",
    "    print('          {}:'.format(column))\n",
    "    print()\n",
    "    print('     Mode = {}'.format(column_mode(data, column)))\n",
    "    print('     Frequency = {}'.format(frequency_table))\n",
    "    print('     Proportions = {}'.format(proportion_table))\n",
    "    print()\n",
    "    \n",
    "    \n",
    "# Function for displaying grouped numerical statistics\n",
    "def display_group_stats(data, group, column):\n",
    "    print('{}'.format(group.upper()))\n",
    "    print()\n",
    "    group_data = group_by_column(data, group)\n",
    "    for key in group_data:\n",
    "        print('     -{}-'.format(key))\n",
    "        print()\n",
    "        display_numerical(group_data[key], column)\n",
    "\n",
    "        \n",
    "    \n",
    "# Function for summing variable 2 in groups partitioned by 1\n",
    "# We never use this function\n",
    "def group_by1_sum_by2(data, string1, string2):\n",
    "    new_dict = group_by_column(data,string1)\n",
    "    dict_sums = {}\n",
    "    for key in new_dict:\n",
    "        dict_sums[key] = 0\n",
    "        for item in new_dict[key]:\n",
    "            dict_sums[key] += float(item[string2])\n",
    "        dict_sums[key] = round(dict_sums[key], 2)\n",
    "    return dict_sums\n"
   ]
  },
  {
   "cell_type": "markdown",
   "metadata": {},
   "source": [
    "This data is about insurance costs so we will examine that first. Below is the summary statistics for charges."
   ]
  },
  {
   "cell_type": "code",
   "execution_count": 80,
   "metadata": {},
   "outputs": [
    {
     "name": "stdout",
     "output_type": "stream",
     "text": [
      "          charges:\n",
      "\n",
      "     Min = 1121.87\n",
      "     Lower Quartile = 4738.27\n",
      "     Median = 9382.03\n",
      "     Upper Quartile = 16657.72\n",
      "     Max = 63770.43\n",
      "     Range = 62648.56\n",
      "     Interquartile Range = 11919.45\n",
      "     Mean = 13270.42\n",
      "     Standard Deviation = 12110.01\n",
      "\n"
     ]
    }
   ],
   "source": [
    "display_numerical(all_data, 'charges')"
   ]
  },
  {
   "cell_type": "markdown",
   "metadata": {},
   "source": [
    "We can see that the mean is almost 50% more than the median which means either the distribution is skewed or there are outliers. Further analysis is needed.\n",
    "We will analyze each other factor for summary statistics, whether there is an imbalance in representation, and how it affects insurance cost.\n",
    "Next we will examine age."
   ]
  },
  {
   "cell_type": "code",
   "execution_count": 81,
   "metadata": {},
   "outputs": [
    {
     "name": "stdout",
     "output_type": "stream",
     "text": [
      "          age:\n",
      "\n",
      "     Min = 18.0\n",
      "     Lower Quartile = 27.0\n",
      "     Median = 39.0\n",
      "     Upper Quartile = 51.0\n",
      "     Max = 64.0\n",
      "     Range = 46.0\n",
      "     Interquartile Range = 24.0\n",
      "     Mean = 39.21\n",
      "     Standard Deviation = 14.05\n",
      "\n",
      "          age:\n",
      "\n",
      "     Mode = 18\n",
      "     Frequency = {'18': 69, '19': 68, '20': 29, '21': 28, '22': 28, '23': 28, '24': 28, '25': 28, '26': 28, '27': 28, '28': 28, '29': 27, '30': 27, '31': 27, '32': 26, '33': 26, '34': 26, '35': 25, '36': 25, '37': 25, '38': 25, '39': 25, '40': 27, '41': 27, '42': 27, '43': 27, '44': 27, '45': 29, '46': 29, '47': 29, '48': 29, '49': 28, '50': 29, '51': 29, '52': 29, '53': 28, '54': 28, '55': 26, '56': 26, '57': 26, '58': 25, '59': 25, '60': 23, '61': 23, '62': 23, '63': 23, '64': 22}\n",
      "     Proportions = {'18': '5.16%', '19': '5.08%', '20': '2.17%', '21': '2.09%', '22': '2.09%', '23': '2.09%', '24': '2.09%', '25': '2.09%', '26': '2.09%', '27': '2.09%', '28': '2.09%', '29': '2.02%', '30': '2.02%', '31': '2.02%', '32': '1.94%', '33': '1.94%', '34': '1.94%', '35': '1.87%', '36': '1.87%', '37': '1.87%', '38': '1.87%', '39': '1.87%', '40': '2.02%', '41': '2.02%', '42': '2.02%', '43': '2.02%', '44': '2.02%', '45': '2.17%', '46': '2.17%', '47': '2.17%', '48': '2.17%', '49': '2.09%', '50': '2.17%', '51': '2.17%', '52': '2.17%', '53': '2.09%', '54': '2.09%', '55': '1.94%', '56': '1.94%', '57': '1.94%', '58': '1.87%', '59': '1.87%', '60': '1.72%', '61': '1.72%', '62': '1.72%', '63': '1.72%', '64': '1.64%'}\n",
      "\n"
     ]
    }
   ],
   "source": [
    "display_numerical(all_data, 'age')\n",
    "display_categorical(all_data, 'age')"
   ]
  },
  {
   "cell_type": "markdown",
   "metadata": {},
   "source": [
    "It is difficult to comment on whether our data accurately represents the population without knowing the demographics of the population but for this analysis we will assume the age column has a near uniform distribution. As such we notice that the proportion of most ages in our data is somewhere between 1.6% and 2.2% except for the proportion of 18 and 19 year olds which are both over 5.0%. The ages are skewed which will affect our analysis. A possible remedy for this problem would be to take a random sample of the rows where age is '18' and '19' so that their frequency is around the same as the other ages. However, that is beyond the scope of this project.\n",
    "We will examine BMI next."
   ]
  },
  {
   "cell_type": "code",
   "execution_count": 82,
   "metadata": {},
   "outputs": [
    {
     "name": "stdout",
     "output_type": "stream",
     "text": [
      "          bmi:\n",
      "\n",
      "     Min = 15.96\n",
      "     Lower Quartile = 26.29\n",
      "     Median = 30.4\n",
      "     Upper Quartile = 34.7\n",
      "     Max = 53.13\n",
      "     Range = 37.17\n",
      "     Interquartile Range = 8.41\n",
      "     Mean = 30.66\n",
      "     Standard Deviation = 6.1\n",
      "\n"
     ]
    }
   ],
   "source": [
    "display_numerical(all_data, 'bmi')"
   ]
  },
  {
   "cell_type": "markdown",
   "metadata": {},
   "source": [
    "BMI is a continuous variable which makes analyzing the data difficult without using visualizations. We could print the frequency and proportion tables but they would be very large and a histogram would be preferred. Judging by the summary statistics, where the median and mean are almost equal and the IQR and standard deviation are relatively small, we can say that BMI appears to follow a normal distribution.\n",
    "We will examine number of children next."
   ]
  },
  {
   "cell_type": "code",
   "execution_count": 83,
   "metadata": {},
   "outputs": [
    {
     "name": "stdout",
     "output_type": "stream",
     "text": [
      "          children:\n",
      "\n",
      "     Min = 0.0\n",
      "     Lower Quartile = 0.0\n",
      "     Median = 1.0\n",
      "     Upper Quartile = 2.0\n",
      "     Max = 5.0\n",
      "     Range = 5.0\n",
      "     Interquartile Range = 2.0\n",
      "     Mean = 1.09\n",
      "     Standard Deviation = 1.21\n",
      "\n",
      "          children:\n",
      "\n",
      "     Mode = 0\n",
      "     Frequency = {'0': 574, '1': 324, '2': 240, '3': 157, '4': 25, '5': 18}\n",
      "     Proportions = {'0': '42.9%', '1': '24.22%', '2': '17.94%', '3': '11.73%', '4': '1.87%', '5': '1.35%'}\n",
      "\n",
      "          has_children:\n",
      "\n",
      "     Mode = yes\n",
      "     Frequency = {'no': 574, 'yes': 764}\n",
      "     Proportions = {'no': '42.9%', 'yes': '57.1%'}\n",
      "\n"
     ]
    }
   ],
   "source": [
    "display_numerical(all_data, 'children')\n",
    "display_categorical(all_data, 'children')\n",
    "display_categorical(all_data, 'has_children')"
   ]
  },
  {
   "cell_type": "markdown",
   "metadata": {},
   "source": [
    "We can see that most people have children but the mode of our data is 0 children. Also very few people have more than 3 children. Next we will examine sex."
   ]
  },
  {
   "cell_type": "code",
   "execution_count": 84,
   "metadata": {},
   "outputs": [
    {
     "name": "stdout",
     "output_type": "stream",
     "text": [
      "          sex:\n",
      "\n",
      "     Mode = male\n",
      "     Frequency = {'female': 662, 'male': 676}\n",
      "     Proportions = {'female': '49.48%', 'male': '50.52%'}\n",
      "\n"
     ]
    }
   ],
   "source": [
    "display_categorical(all_data, 'sex')"
   ]
  },
  {
   "cell_type": "markdown",
   "metadata": {},
   "source": [
    "Our data has more males than females but both proportions are nearly 50%. This is a fairly uniform distribution of a discrete variable and we can assume it is accurately represents the population. We will examine smoking status next."
   ]
  },
  {
   "cell_type": "code",
   "execution_count": 85,
   "metadata": {},
   "outputs": [
    {
     "name": "stdout",
     "output_type": "stream",
     "text": [
      "          smoker:\n",
      "\n",
      "     Mode = no\n",
      "     Frequency = {'no': 1064, 'yes': 274}\n",
      "     Proportions = {'no': '79.52%', 'yes': '20.48%'}\n",
      "\n"
     ]
    }
   ],
   "source": [
    "display_categorical(all_data, 'smoker')"
   ]
  },
  {
   "cell_type": "markdown",
   "metadata": {},
   "source": [
    "Most people in our data are not smokers, while smokers are approximately 20%. We would not expect this distribution to be uniform. Without any other data we have to assume this accurately represents our population. Next we will examine region."
   ]
  },
  {
   "cell_type": "code",
   "execution_count": 86,
   "metadata": {},
   "outputs": [
    {
     "name": "stdout",
     "output_type": "stream",
     "text": [
      "          region:\n",
      "\n",
      "     Mode = southeast\n",
      "     Frequency = {'northeast': 324, 'northwest': 325, 'southeast': 364, 'southwest': 325}\n",
      "     Proportions = {'northeast': '24.22%', 'northwest': '24.29%', 'southeast': '27.2%', 'southwest': '24.29%'}\n",
      "\n"
     ]
    }
   ],
   "source": [
    "display_categorical(all_data, 'region')"
   ]
  },
  {
   "cell_type": "markdown",
   "metadata": {},
   "source": [
    "Our data is fairly uniform when it comes to region with all proportions nearly 25%. We have slightly more people from the southeast than any other region.\n",
    "\n",
    "Now we will analyze how different variables are related to the charges variable. We will look at children, sex, smoker, and region. Without visualizations it is too difficult to examine how age and bmi relate to the charges variable."
   ]
  },
  {
   "cell_type": "code",
   "execution_count": 87,
   "metadata": {},
   "outputs": [
    {
     "name": "stdout",
     "output_type": "stream",
     "text": [
      "HAS_CHILDREN\n",
      "\n",
      "     -no-\n",
      "\n",
      "          charges:\n",
      "\n",
      "     Min = 1121.87\n",
      "     Lower Quartile = 2731.91\n",
      "     Median = 9856.95\n",
      "     Upper Quartile = 14449.85\n",
      "     Max = 63770.43\n",
      "     Range = 62648.56\n",
      "     Interquartile Range = 11717.94\n",
      "     Mean = 12365.98\n",
      "     Standard Deviation = 12023.29\n",
      "\n",
      "     -yes-\n",
      "\n",
      "          charges:\n",
      "\n",
      "     Min = 1711.03\n",
      "     Lower Quartile = 5782.76\n",
      "     Median = 9223.83\n",
      "     Upper Quartile = 18241.33\n",
      "     Max = 60021.4\n",
      "     Range = 58310.37\n",
      "     Interquartile Range = 12458.57\n",
      "     Mean = 13949.94\n",
      "     Standard Deviation = 12138.31\n",
      "\n"
     ]
    }
   ],
   "source": [
    "display_group_stats(all_data, 'has_children', 'charges')"
   ]
  },
  {
   "cell_type": "markdown",
   "metadata": {},
   "source": [
    "Some things to notice are the upper and lower quartiles and mean are higher for people with children but the median is lower. The other statistcs are not much different."
   ]
  },
  {
   "cell_type": "code",
   "execution_count": 88,
   "metadata": {},
   "outputs": [
    {
     "name": "stdout",
     "output_type": "stream",
     "text": [
      "CHILDREN\n",
      "\n",
      "     -0-\n",
      "\n",
      "          charges:\n",
      "\n",
      "     Min = 1121.87\n",
      "     Lower Quartile = 2731.91\n",
      "     Median = 9856.95\n",
      "     Upper Quartile = 14449.85\n",
      "     Max = 63770.43\n",
      "     Range = 62648.56\n",
      "     Interquartile Range = 11717.94\n",
      "     Mean = 12365.98\n",
      "     Standard Deviation = 12023.29\n",
      "\n",
      "     -1-\n",
      "\n",
      "          charges:\n",
      "\n",
      "     Min = 1711.03\n",
      "     Lower Quartile = 4787.63\n",
      "     Median = 8483.87\n",
      "     Upper Quartile = 15905.0\n",
      "     Max = 58571.07\n",
      "     Range = 56860.04\n",
      "     Interquartile Range = 11117.37\n",
      "     Mean = 12731.17\n",
      "     Standard Deviation = 11823.63\n",
      "\n",
      "     -2-\n",
      "\n",
      "          charges:\n",
      "\n",
      "     Min = 2304.0\n",
      "     Lower Quartile = 6257.93\n",
      "     Median = 9264.98\n",
      "     Upper Quartile = 20580.88\n",
      "     Max = 49577.66\n",
      "     Range = 47273.66\n",
      "     Interquartile Range = 14322.95\n",
      "     Mean = 15073.56\n",
      "     Standard Deviation = 12891.37\n",
      "\n",
      "     -3-\n",
      "\n",
      "          charges:\n",
      "\n",
      "     Min = 3443.06\n",
      "     Lower Quartile = 6602.14\n",
      "     Median = 10600.55\n",
      "     Upper Quartile = 19280.97\n",
      "     Max = 60021.4\n",
      "     Range = 56578.34\n",
      "     Interquartile Range = 12678.83\n",
      "     Mean = 15355.32\n",
      "     Standard Deviation = 12330.87\n",
      "\n",
      "     -4-\n",
      "\n",
      "          charges:\n",
      "\n",
      "     Min = 4504.66\n",
      "     Lower Quartile = 7378.04\n",
      "     Median = 11033.66\n",
      "     Upper Quartile = 17535.27\n",
      "     Max = 40182.25\n",
      "     Range = 35677.59\n",
      "     Interquartile Range = 10157.23\n",
      "     Mean = 13850.66\n",
      "     Standard Deviation = 9139.22\n",
      "\n",
      "     -5-\n",
      "\n",
      "          charges:\n",
      "\n",
      "     Min = 4687.8\n",
      "     Lower Quartile = 5615.37\n",
      "     Median = 8589.57\n",
      "     Upper Quartile = 10096.97\n",
      "     Max = 19023.26\n",
      "     Range = 14335.46\n",
      "     Interquartile Range = 4481.6\n",
      "     Mean = 8786.04\n",
      "     Standard Deviation = 3808.44\n",
      "\n"
     ]
    }
   ],
   "source": [
    "display_group_stats(all_data, 'children', 'charges')"
   ]
  },
  {
   "cell_type": "markdown",
   "metadata": {},
   "source": [
    "The mean increases as you have more children until you have 3 children and then decreases with 4 and 5 children. We have smaller sample size for people with 4 or 5 children and most likely we have fewer smokers which would lower our mean charges."
   ]
  },
  {
   "cell_type": "code",
   "execution_count": 89,
   "metadata": {},
   "outputs": [
    {
     "name": "stdout",
     "output_type": "stream",
     "text": [
      "SEX\n",
      "\n",
      "     -female-\n",
      "\n",
      "          charges:\n",
      "\n",
      "     Min = 1607.51\n",
      "     Lower Quartile = 4883.87\n",
      "     Median = 9412.96\n",
      "     Upper Quartile = 14455.64\n",
      "     Max = 63770.43\n",
      "     Range = 62162.92\n",
      "     Interquartile Range = 9571.77\n",
      "     Mean = 12569.58\n",
      "     Standard Deviation = 11128.7\n",
      "\n",
      "     -male-\n",
      "\n",
      "          charges:\n",
      "\n",
      "     Min = 1121.87\n",
      "     Lower Quartile = 4591.51\n",
      "     Median = 9369.62\n",
      "     Upper Quartile = 19006.69\n",
      "     Max = 62592.87\n",
      "     Range = 61471.0\n",
      "     Interquartile Range = 14415.18\n",
      "     Mean = 13956.75\n",
      "     Standard Deviation = 12971.03\n",
      "\n"
     ]
    }
   ],
   "source": [
    "display_group_stats(all_data, 'sex', 'charges')"
   ]
  },
  {
   "cell_type": "markdown",
   "metadata": {},
   "source": [
    "Males have higher mean charges and a much higher upper quartile and IQR. The most likely cause is a higher proportion of males are smokers."
   ]
  },
  {
   "cell_type": "code",
   "execution_count": 90,
   "metadata": {},
   "outputs": [
    {
     "name": "stdout",
     "output_type": "stream",
     "text": [
      "SMOKER\n",
      "\n",
      "     -no-\n",
      "\n",
      "          charges:\n",
      "\n",
      "     Min = 1121.87\n",
      "     Lower Quartile = 3984.95\n",
      "     Median = 7345.41\n",
      "     Upper Quartile = 11363.02\n",
      "     Max = 36910.61\n",
      "     Range = 35788.74\n",
      "     Interquartile Range = 7378.07\n",
      "     Mean = 8434.27\n",
      "     Standard Deviation = 5993.78\n",
      "\n",
      "     -yes-\n",
      "\n",
      "          charges:\n",
      "\n",
      "     Min = 12829.46\n",
      "     Lower Quartile = 20773.63\n",
      "     Median = 34456.35\n",
      "     Upper Quartile = 41034.22\n",
      "     Max = 63770.43\n",
      "     Range = 50940.97\n",
      "     Interquartile Range = 20260.59\n",
      "     Mean = 32050.23\n",
      "     Standard Deviation = 11541.55\n",
      "\n"
     ]
    }
   ],
   "source": [
    "display_group_stats(all_data, 'smoker', 'charges')"
   ]
  },
  {
   "cell_type": "markdown",
   "metadata": {},
   "source": [
    "All the statistics are much higher for smokers than non-smokers. The mean is nearly 4 times as high. We can see that smokers skew the charges to be much higher than they should be which explains the large difference between the mean (13270.42) and the median (9382.03) for charges regardless of smoking status."
   ]
  },
  {
   "cell_type": "code",
   "execution_count": 91,
   "metadata": {},
   "outputs": [
    {
     "name": "stdout",
     "output_type": "stream",
     "text": [
      "REGION\n",
      "\n",
      "     -northeast-\n",
      "\n",
      "          charges:\n",
      "\n",
      "     Min = 1694.8\n",
      "     Lower Quartile = 5179.07\n",
      "     Median = 10057.65\n",
      "     Upper Quartile = 16717.01\n",
      "     Max = 58571.07\n",
      "     Range = 56876.27\n",
      "     Interquartile Range = 11537.94\n",
      "     Mean = 13406.38\n",
      "     Standard Deviation = 11255.8\n",
      "\n",
      "     -northwest-\n",
      "\n",
      "          charges:\n",
      "\n",
      "     Min = 1621.34\n",
      "     Lower Quartile = 4668.91\n",
      "     Median = 8965.8\n",
      "     Upper Quartile = 14865.75\n",
      "     Max = 60021.4\n",
      "     Range = 58400.06\n",
      "     Interquartile Range = 10196.84\n",
      "     Mean = 12417.58\n",
      "     Standard Deviation = 11072.28\n",
      "\n",
      "     -southeast-\n",
      "\n",
      "          charges:\n",
      "\n",
      "     Min = 1121.87\n",
      "     Lower Quartile = 4432.31\n",
      "     Median = 9294.13\n",
      "     Upper Quartile = 19530.61\n",
      "     Max = 63770.43\n",
      "     Range = 62648.56\n",
      "     Interquartile Range = 15098.3\n",
      "     Mean = 14735.41\n",
      "     Standard Deviation = 13971.1\n",
      "\n",
      "     -southwest-\n",
      "\n",
      "          charges:\n",
      "\n",
      "     Min = 1241.57\n",
      "     Lower Quartile = 4748.71\n",
      "     Median = 8798.59\n",
      "     Upper Quartile = 13466.69\n",
      "     Max = 52590.83\n",
      "     Range = 51349.26\n",
      "     Interquartile Range = 8717.98\n",
      "     Mean = 12346.94\n",
      "     Standard Deviation = 11557.18\n",
      "\n"
     ]
    }
   ],
   "source": [
    "display_group_stats(all_data, 'region', 'charges')"
   ]
  },
  {
   "cell_type": "markdown",
   "metadata": {},
   "source": [
    "Nothing really jumps out as interesting in these statistics except the upper quartile, and thus the IQR, of the southeast. The most likely suspect is that the southeast has a higher proportion smokers than the other regions.\n",
    "Finally we make a function to test our hypothesis that there is a higher proportion of smokers in the groups with 3 or less children, men, and people from the southeast."
   ]
  },
  {
   "cell_type": "code",
   "execution_count": 92,
   "metadata": {},
   "outputs": [
    {
     "name": "stdout",
     "output_type": "stream",
     "text": [
      "SMOKER - CHILDREN : count\n",
      "\n",
      " no - 0 : 459\n",
      " no - 1 : 263\n",
      " no - 2 : 185\n",
      " no - 3 : 118\n",
      " no - 4 : 22\n",
      " no - 5 : 17\n",
      " yes - 0 : 115\n",
      " yes - 1 : 61\n",
      " yes - 2 : 55\n",
      " yes - 3 : 39\n",
      " yes - 4 : 3\n",
      " yes - 5 : 1\n",
      "\n",
      "SMOKER - SEX : count\n",
      "\n",
      " no - female : 547\n",
      " no - male : 517\n",
      " yes - female : 115\n",
      " yes - male : 159\n",
      "\n",
      "SMOKER - REGION : count\n",
      "\n",
      " no - northeast : 257\n",
      " no - northwest : 267\n",
      " no - southeast : 273\n",
      " no - southwest : 267\n",
      " yes - northeast : 67\n",
      " yes - northwest : 58\n",
      " yes - southeast : 91\n",
      " yes - southwest : 58\n"
     ]
    }
   ],
   "source": [
    "def group1_count2(data, group1, group2):\n",
    "    new_dict = group_by_column(data, group1)\n",
    "    dict_count = {}\n",
    "    print('{} - {} : count'.format(group1.upper(), group2.upper()))\n",
    "    print()\n",
    "    for key in new_dict:\n",
    "        dict2 = group_by_column(new_dict[key], group2)\n",
    "        for key2 in dict2:\n",
    "            print(' {} - {} : {}'.format(key, key2, len(dict2[key2])))\n",
    "            \n",
    "group1_count2(all_data, 'smoker', 'children')\n",
    "print()\n",
    "group1_count2(all_data, 'smoker', 'sex')\n",
    "print()\n",
    "group1_count2(all_data, 'smoker', 'region')"
   ]
  },
  {
   "cell_type": "markdown",
   "metadata": {},
   "source": [
    "As we can see from these tables our hypothesis is correct. Higher charges are related to higher proportions of smokers in each category."
   ]
  }
 ],
 "metadata": {
  "kernelspec": {
   "display_name": "Python 3 (ipykernel)",
   "language": "python",
   "name": "python3"
  },
  "language_info": {
   "codemirror_mode": {
    "name": "ipython",
    "version": 3
   },
   "file_extension": ".py",
   "mimetype": "text/x-python",
   "name": "python",
   "nbconvert_exporter": "python",
   "pygments_lexer": "ipython3",
   "version": "3.9.12"
  }
 },
 "nbformat": 4,
 "nbformat_minor": 4
}
